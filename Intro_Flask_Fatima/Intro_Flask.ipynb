{
 "cells": [
  {
   "cell_type": "markdown",
   "metadata": {},
   "source": [
    "# **Flask**\n",
    "\n",
    "Flask est un framework de développement web en Python parmi d'autres, le plus connu d'entre eux étant Django.\n",
    "\n",
    "En alliant le langage de programmation Python et un système de templates très riche, on peut créer assez facilement une application. Forcément, plus l'application que vous rêvez de réaliser sera compliquée et plein de fonctionnalités, plus le temps qu'il vous faudra pour la coder sera long. \n",
    "\n",
    "Mais avec Flask, on peut déjà rapidement obtenir des résultats, sans trop se perdre.\n",
    "\n",
    "Attention toutefois, Flask ne fait pas tout : si vous voulez aboutir à quelque chose de sérieux en web-app avec Python, il faudra passer par Django. Alors pourquoi pas attaquer avec Django ? Ce framework est assez lourd à apprendre tandis que Flask ressemble beaucoup à ce qu'on a utilisé jusqu'à maintenant. Libre à vous devous pencher sur Django plus tard !"
   ]
  },
  {
   "cell_type": "markdown",
   "metadata": {},
   "source": [
    "1. [Comment ça marche ?](#intro)<br>\n",
    "2. [Une 1ère page internet avec Flask](#page1)<br>\n",
    "    2.1. [Le code](#code)<br>\n",
    "    2.2. [Explication du code pas à pas](#detail)<br>\n",
    "    2.2. [Exercice 1](#exo1)<br>\n",
    "3. [Une 2ème page internet avec Flask sans notebook](#page2)<br>\n",
    "4. [Une 3ème page internet avec un peu de style](#page3)<br>\n",
    "    4.1. [Le script hello_world2.py](#hello_world2)<br>\n",
    "    4.2. [Le template home.html](#home)<br>\n",
    "    4.3. [La feuille de styles main.css](#maincss)<br>\n",
    "    4.4. [Exercice 2](#exo2)<br>\n",
    "5. [La navigation entre pages](#navigation)<br>\n",
    "    5.1. [Le script app_2_pages.py](#app_2_pages)<br>\n",
    "    5.2. [La page home.html](#home2)<br>\n",
    "    5.3. [La page page_suivante.html](#next)<br>\n",
    "    5.4. [La feuille de styles main.css un peu modifée](#maincss2)<br>\n",
    "6. [Envoyer des informations](#infos)<br>\n",
    "    6.1. [La page home.html](#home3)<br>\n",
    "    6.2. [Le script login.py](#login)<br>\n",
    "    6.3. [La page bienvenue.html](#bienvenue)<br>"
   ]
  },
  {
   "cell_type": "markdown",
   "metadata": {},
   "source": [
    "<a id='intro'></a>"
   ]
  },
  {
   "cell_type": "markdown",
   "metadata": {},
   "source": [
    "## **1. Comment ça marche ?**\n",
    "\n",
    "Pour commencer, disons qu'un site web n'est qu'un simple programme exécuté sur un ordinateur.\n",
    "\n",
    "Quand vous vous rendez sur un site web, vous êtes ce qu'on appellera un client, et l'ordinateur où est exécuté ce site web est appelé le serveur. Pour le moment, nous utiliserons le même ordinateur pour faire les deux : le site web sera donc situé sur votre propre machine.\n",
    "\n",
    "Celal signifie que votre application ne sera disponible que pour vous, \"en local\". \n",
    "\n",
    "Pour communiquer avec le site internet, le client envoie des requêtes au serveur, en gros en lui donnant une page (une url) le client demande au serveur une chose bien précise. Pour faire simple, tout se joue dans l'adresse mise dans le navigateur.\n",
    "\n",
    "L'adresse https://github.com/louiskuhn/PromoIA comporte plusieurs éléments : \n",
    "- http ou https : c'est le protocole on ne va pas en parler ici\n",
    "- github.com : c'est le nom du domaine\n",
    "- louiskuhn/PromoIA : c'est le chemin de la page web demandée, aussi appelé \"route\"\n",
    "\n",
    "Pour nous, comme tout va se passer sur notre ordinateur, on n'a pas de nom de domaine : celui-ci est remplacé par \"localhost\" par convention.  \n",
    "Pour accéder à la page appelée “/unepage”: http://localhost/unepage  \n",
    "Petite subtilité, un serveur HTTP peut fonctionner sur différent ports. Par défaut, le serveur HTTP intégré à Flask fonctionne sur le port 5000, il faut donc le préciser dans l’adresse du navigateur : http://localhost:5000/unepage pour accéder à la page \"/unepage\" de notre application."
   ]
  },
  {
   "cell_type": "markdown",
   "metadata": {},
   "source": [
    "<a id='page1'></a>"
   ]
  },
  {
   "cell_type": "markdown",
   "metadata": {},
   "source": [
    "## **2. Une 1ère page internet avec Flask**"
   ]
  },
  {
   "cell_type": "markdown",
   "metadata": {},
   "source": [
    "<a id='code'></a>"
   ]
  },
  {
   "cell_type": "markdown",
   "metadata": {},
   "source": [
    "<a id='detail'></a>"
   ]
  },
  {
   "cell_type": "markdown",
   "metadata": {},
   "source": [
    "### **2.1. Explication du code pas à pas**"
   ]
  },
  {
   "cell_type": "markdown",
   "metadata": {},
   "source": [
    "### On importe le module Flask \n",
    ">>`from flask import Flask`\n",
    "______________\n",
    "\n",
    "### On donne un nom à l'application ici ce sera app\n",
    ">>`app = Flask(__name__)`\n",
    "_______________\n",
    "\n",
    "### On défini une page (ou route) avec Flask\n",
    ">>`@app.rout(\"/\")`\n",
    "\n",
    ">- @app.route : permet de préciser à quelle adress ce qui suit va s'appliquer\n",
    ">- (\"/\")      : indique que c'est la page d'accueil  ex: page 1 >> @app.rout(\"/page1\") )\n",
    "______________\n",
    "\n",
    "### On crée la fonction hello()\n",
    ">`def hello():`\n",
    ">>`return \"Hello World!\"`\n",
    "\n",
    ">- elle s'execute sur la page (\"/\") \n",
    ">- lorsqu'on arrive sur cette page, on fait appelle à la fonction hello()\n",
    ">- on voit donc afficher : \"Hello World!\"\n",
    "________________\n",
    "\n",
    "### On lance le scritp dans le terminal\n",
    ">`if __name__ == \"__main__\":`\n",
    ">>`app.run(debug=True)`\n",
    "\n",
    ">- on permet à l'app de s'executer lorsqu'on lance le scrit via le terminal"
   ]
  },
  {
   "cell_type": "markdown",
   "metadata": {},
   "source": [
    "### **2.2. Le code**\n",
    "\n",
    "Exécutez le code ci-dessous et allez à la page http://localhost:5000/ (pour quitter, il faut interrompre le kernel en cliquant sur kernel > interrupt)"
   ]
  },
  {
   "cell_type": "code",
   "execution_count": 2,
   "metadata": {
    "jupyter": {
     "outputs_hidden": false
    }
   },
   "outputs": [
    {
     "name": "stdout",
     "output_type": "stream",
     "text": [
      " * Serving Flask app \"__main__\" (lazy loading)\n",
      " * Environment: production\n",
      "   WARNING: This is a development server. Do not use it in a production deployment.\n",
      "   Use a production WSGI server instead.\n",
      " * Debug mode: on\n"
     ]
    },
    {
     "name": "stderr",
     "output_type": "stream",
     "text": [
      " * Restarting with stat\n"
     ]
    },
    {
     "ename": "SystemExit",
     "evalue": "1",
     "output_type": "error",
     "traceback": [
      "An exception has occurred, use %tb to see the full traceback.\n",
      "\u001b[1;31mSystemExit\u001b[0m\u001b[1;31m:\u001b[0m 1\n"
     ]
    },
    {
     "name": "stderr",
     "output_type": "stream",
     "text": [
      "C:\\Users\\utilisateur\\Anaconda3\\lib\\site-packages\\IPython\\core\\interactiveshell.py:3334: UserWarning: To exit: use 'exit', 'quit', or Ctrl-D.\n",
      "  warn(\"To exit: use 'exit', 'quit', or Ctrl-D.\", stacklevel=1)\n"
     ]
    }
   ],
   "source": [
    "from flask import Flask\n",
    "app = Flask(__name__)\n",
    "@app.route(\"/\")\n",
    "def hello():\n",
    "    return \"Salut la famille !\"\n",
    "\n",
    "if __name__ == \"__main__\":\n",
    "    app.run(debug=True)"
   ]
  },
  {
   "cell_type": "markdown",
   "metadata": {},
   "source": [
    "<a id='exo1'></a>"
   ]
  },
  {
   "cell_type": "markdown",
   "metadata": {},
   "source": [
    "### **2.2 Exercice 1**\n",
    "Remplacez \"Hello World !\" par ce que vous voulez et affichez ce nouveau texte dans la page hébergée en local."
   ]
  },
  {
   "cell_type": "markdown",
   "metadata": {},
   "source": [
    "<a id='page2'></a>"
   ]
  },
  {
   "cell_type": "markdown",
   "metadata": {},
   "source": [
    "## **3. Flask sans notebook**\n",
    "\n",
    "On ne va plus utiliser le notebook qui ne permet pas de manipuler plusieurs fichiers (le CSS, les templates, etc...). On va donc repartir sur un éditeur de texte basique, ou VS Code ou Spyder, bref votre IDE préféré et la console. C'est la console qui permettra de lancer les .py et d'exécuter le script qui lancera l'application.\n",
    "\n",
    "**Lancer la première page :**\n",
    ">Prenez le code `hello_world.py`  \n",
    ">Ouvrir la console et taper \"python xxxxxxxx/hello_world.py\" (en remplacant les x par le chemin de votre fichier hello.py)  \n",
    ">Ouvrir une page du navigateur et aller à l'adresse  http://localhost:5000  \n",
    ">Vous devez obtenir une page avec le texte \"Hello World\"."
   ]
  },
  {
   "cell_type": "raw",
   "metadata": {},
   "source": [
    "Lancer une application dans git bash :\n",
    "\n",
    "Etape 1:\n",
    "- Installer Flask :\n",
    "( rappel : conda install -c anaconda flask )\n",
    "\n",
    "Etape 2:\n",
    "- taper le chemin de l'app précédé de python :\n",
    "( rappel : python Destkotp/En_cours/Intro_Flask/2çHello_world_v2/hello_world.py )"
   ]
  },
  {
   "cell_type": "markdown",
   "metadata": {},
   "source": [
    "<a id='page3'></a>"
   ]
  },
  {
   "cell_type": "markdown",
   "metadata": {},
   "source": [
    "## **4. Une 2ème page internet avec un peu de style**\n",
    "\n",
    "On va ajouter un peu de style à cette page. Pour cela, il faut commencer par réaliser **une structure de dossiers que flask comprend**.\n",
    "\n",
    "L'idée est d'indiquer à Flask des templates de pages et des styles prédéfinis pour l'application.\n",
    "\n",
    "En ouvrant le dossier \"2_Hello_world_v2\" vous trouverez 3 éléments : \n",
    "- hello_world2.py\n",
    "- un dossier \"static\" qui contient la feuille de style main.css\n",
    "- un dossier \"templates\" qui contient une page home.html\n",
    "\n",
    "La structure du dossier et le nom des dossiers \"static\" et \"templates\" sont importants : Flask sait que c'est là qu'il doit aller chercher les éléments qui l'intéressent.\n",
    "\n",
    "Lancez l'application à partir de la console pour voir la différence."
   ]
  },
  {
   "cell_type": "markdown",
   "metadata": {},
   "source": [
    "<a id='hello_world2'></a>"
   ]
  },
  {
   "cell_type": "markdown",
   "metadata": {},
   "source": [
    "### **4.1. Le script hello_world2.py**"
   ]
  },
  {
   "cell_type": "markdown",
   "metadata": {},
   "source": [
    " Par rapport au code précédent, on à remplacer le \n",
    " >- `Salut la famille` en `render_template`.\n",
    " \n",
    " >- flask va rechercher le model html enregistré dans le dossier `templates`"
   ]
  },
  {
   "cell_type": "markdown",
   "metadata": {},
   "source": [
    "Petite particularité, ici, au lieu de renvoyer le texte directement, on demande d'injecter dans le template de la page home le message : \"Hello Multicolor World! I hope you like this amazing and uselessly long rainbow sentence :)\""
   ]
  },
  {
   "cell_type": "code",
   "execution_count": 1,
   "metadata": {},
   "outputs": [],
   "source": [
    "from flask import Flask, render_template\n",
    "app = Flask(__name__)\n",
    "\n",
    "@app.route(\"/\")\n",
    "def hello():\n",
    "    return render_template(\"home.html\", message = \"Hello Multicolor World! I hope you like this amazing and uselessly long rainbow sentence :)\")\n",
    "\n",
    "#if __name__ == \"__main__\":\n",
    "#    app.run()"
   ]
  },
  {
   "cell_type": "markdown",
   "metadata": {},
   "source": [
    "<a id='home'></a>"
   ]
  },
  {
   "cell_type": "markdown",
   "metadata": {},
   "source": [
    "### **4.2. Le template home.html**"
   ]
  },
  {
   "cell_type": "markdown",
   "metadata": {},
   "source": [
    "Dans ces lignes, il y a donc 2 éléments importants : \n",
    ">- la définition du style avec le fichier main.css :\n",
    "\n",
    ">- l'intégration de ce que python injecte dans la page grâce au caractère {{ }}"
   ]
  },
  {
   "cell_type": "raw",
   "metadata": {},
   "source": [
    "<!doctype html>\n",
    "<html>\n",
    "    <head>\n",
    "      <title>HomePage</title>\n",
    "      <link rel =\"stylesheet\" type=\"text/css\" href=\"{{ url_for('static', filename='main.css') }}\">\n",
    "    </head>\n",
    "    <body>\n",
    "      <h1 class=\"multicolor\"> {{ message }}</h1>\n",
    "    </body>\n",
    "</html>"
   ]
  },
  {
   "cell_type": "markdown",
   "metadata": {},
   "source": [
    "<a id='maincss'></a>"
   ]
  },
  {
   "cell_type": "markdown",
   "metadata": {},
   "source": [
    "### **4.3. La feuille de styles main.css**"
   ]
  },
  {
   "cell_type": "markdown",
   "metadata": {},
   "source": [
    "On est allé un peu plus loin dans les styles en définissant une classe `multicolor` avec une astuce pour pouvoir écrire du texte de toutes les couleurs. Essayez de comprendre le principe de ces quelques lignes CSS (vous pouvez exécuter en enlevant certaines instructions pour y voir plus clair). "
   ]
  },
  {
   "cell_type": "raw",
   "metadata": {},
   "source": [
    ".multicolor {\n",
    "  background-image: linear-gradient(to left, violet, indigo, blue, green, yellow, orange, red);  \n",
    "  -webkit-background-clip: text;\n",
    "  -moz-background-clip: text; \n",
    "  background-clip: text;\n",
    "  color: transparent;\n",
    "  text-align: center;\n",
    "} "
   ]
  },
  {
   "cell_type": "markdown",
   "metadata": {},
   "source": [
    "<a id='exo2'></a>"
   ]
  },
  {
   "cell_type": "markdown",
   "metadata": {},
   "source": [
    "### **4.4 Exercice 2**\n",
    "Changez le texte de la variable message et les styles du texte. Vous pouvez aller faire un tour sur [cette bible des styles CSS](http://www.w3schools.com/cssref/)"
   ]
  },
  {
   "cell_type": "code",
   "execution_count": 4,
   "metadata": {},
   "outputs": [
    {
     "data": {
      "text/plain": [
       "<matplotlib.image.AxesImage at 0x19e92b21c08>"
      ]
     },
     "execution_count": 4,
     "metadata": {},
     "output_type": "execute_result"
    },
    {
     "data": {
      "image/png": "[encoded data removed]",
      "text/plain": [
       "<Figure size 432x288 with 1 Axes>"
      ]
     },
     "metadata": {
      "needs_background": "light"
     },
     "output_type": "display_data"
    }
   ],
   "source": [
    "from matplotlib.pyplot import imshow\n",
    "import numpy as np\n",
    "from PIL import Image\n",
    "\n",
    "%matplotlib inline\n",
    "pil_im = Image.open('2_Hello_World_v2/Annotation_2020-03-19_181944.png', 'r')\n",
    "imshow(np.asarray(pil_im))"
   ]
  },
  {
   "cell_type": "markdown",
   "metadata": {},
   "source": [
    "<a id='navigation'></a>"
   ]
  },
  {
   "cell_type": "markdown",
   "metadata": {},
   "source": [
    "## **5. La navigation entre pages**\n",
    "\n",
    "Pour l'instant, on a fait des pages simples, maintenant on va en faire deux et voir comment passer de l'une à l'autre.  \n",
    "Pour cela, allez dans le dossier 3_Plusieurs_pages.   \n",
    "Par rapport à l'exemple précédent, on a ajouté un template html 'page_suivante.html' et modifié légèrement le code .py ainsi que la page home.html"
   ]
  },
  {
   "cell_type": "markdown",
   "metadata": {},
   "source": [
    "<a id='app_2_pages'></a>"
   ]
  },
  {
   "cell_type": "markdown",
   "metadata": {},
   "source": [
    "### **5.1. Le script app_2_pages.py**"
   ]
  },
  {
   "cell_type": "markdown",
   "metadata": {},
   "source": [
    "On a donc ajouté une route et une nouvelle fonction.\n",
    ">`@app.rout(\"/next\")`\n",
    "\n",
    ">`def suite():`"
   ]
  },
  {
   "cell_type": "raw",
   "metadata": {},
   "source": [
    "Rappel :\n",
    "- la nouvelle route est celle d'une deuxième page \n",
    "- à laquelle on applique le template de la page html \"page_suivante\".\n",
    "\n",
    "Dans ce cas là, on n'injecte rien depuis python dans la page."
   ]
  },
  {
   "cell_type": "code",
   "execution_count": null,
   "metadata": {},
   "outputs": [],
   "source": [
    "from flask import Flask, render_template\n",
    "app = Flask(__name__)\n",
    "\n",
    "@app.route(\"/\")\n",
    "def hello():\n",
    "    return render_template(\"home.html\", message_home = \"Bienvenue sur la page d'accueil !\")\n",
    "\n",
    "@app.route(\"/next\")\n",
    "def suite():\n",
    "    return render_template(\"page_suivante.html\")\n",
    "\n",
    "#if __name__ == \"__main__\":\n",
    "#    app.run()"
   ]
  },
  {
   "cell_type": "markdown",
   "metadata": {},
   "source": [
    "<a id='home2'></a>"
   ]
  },
  {
   "cell_type": "markdown",
   "metadata": {},
   "source": [
    "### **5.2. La page home.html**"
   ]
  },
  {
   "cell_type": "markdown",
   "metadata": {},
   "source": [
    "On a ajouté à la page d'accueil une ligne avec un lien pour accéder à la deuxième page.  \n",
    ">`<a href=\"{{ url_for('suite') }}\"> ... </a>`"
   ]
  },
  {
   "cell_type": "raw",
   "metadata": {},
   "source": [
    "Rappel : \n",
    "- le href est une balise qui permet de mettre des liens \n",
    "- on indique à flask à quelle page il doit se rendre en cliquant sur le lien \n",
    "- il faut lui donner le nom de la __fonction__ définie pour la page (pas la route !)  \n",
    "\n",
    "dans l'exemple on donne indique bien url_for('suite') et non pas url_for('next')"
   ]
  },
  {
   "cell_type": "raw",
   "metadata": {},
   "source": [
    "<!doctype html>\n",
    "<html>\n",
    "    <head>\n",
    "      <title>HomePage</title>\n",
    "      <link rel =\"stylesheet\" type=\"text/css\" href=\"{{ url_for('static', filename='main.css') }}\">\n",
    "    </head>\n",
    "    <body>\n",
    "      <h1 class=\"multicolor\"> {{ message_home }}</h1>\n",
    "      <a href=\"{{ url_for('suite') }}\"> Cliquer sur ce lien pour aller à la page suivante </a>\n",
    "    </body>      \n",
    "</html>"
   ]
  },
  {
   "cell_type": "markdown",
   "metadata": {},
   "source": [
    "<a id='next'></a>"
   ]
  },
  {
   "cell_type": "markdown",
   "metadata": {},
   "source": [
    "### **5.3. La page page_suivante.html**"
   ]
  },
  {
   "cell_type": "markdown",
   "metadata": {},
   "source": [
    "Rien de spécial à signaler à part :\n",
    ">- qu'on joue un peu avec les styles,\n",
    ">- qu'on ajoute le lien qui redirige vers la page d'accueil\n",
    "\n",
    ">>`<a href=\"{{ url_for('hello') }}`"
   ]
  },
  {
   "cell_type": "raw",
   "metadata": {},
   "source": [
    "<!doctype html>\n",
    "<html lang=\"en\">\n",
    "    <head>\n",
    "      <title>NextPage</title>\n",
    "      <link rel =\"stylesheet\" type=\"text/css\" href=\"{{ url_for('static', filename='main.css') }}\">\n",
    "    </head>\n",
    "    <body>\n",
    "      <h1> Vous êtes sur la 2eme page </h1>\n",
    "      <p class=\"multicolor\" >Vous pouvez cliquer <a href=\"{{ url_for('hello') }}\"> là-dessus </a> \n",
    "        pour retourner à la page d'accueil quand vous en aurez fini. Au passage, et c'est fait exprès, \n",
    "        vous constatez que le style \"centré multicolor\" a été appliqué non plus à une balise h1 mais \n",
    "        à une balise de paragraphe. <br>\n",
    "        D'ou l'intérêt de l'attribut class pour définir des styles réutilisables par exemple.\n",
    "      </p>\n",
    "    </body>\n",
    "</html>"
   ]
  },
  {
   "cell_type": "markdown",
   "metadata": {},
   "source": [
    "<a id='maincss2'></a>"
   ]
  },
  {
   "cell_type": "markdown",
   "metadata": {},
   "source": [
    "### **5.4. La feuille de styles main.css un peu modifée**"
   ]
  },
  {
   "cell_type": "markdown",
   "metadata": {},
   "source": [
    "On a ajouté :\n",
    "- pour multicolor des indications sur la couleur tu background et du texte\n",
    ">`background-image:`\n",
    ">`-webkit-background-clip:`\n",
    ">`-moz-background-clip:`\n",
    ">`background-clip:`\n",
    ">`color:`\n",
    "\n",
    "- un centrage du texte sur les balises h1\n",
    ">`text-align: center`\n",
    "\n",
    "- et une couleur de fond et de texte pour la balise \"body\" donc pour l'ensemble des pages\n",
    ">`background-color:`\n",
    ">`color:`\n",
    "\n",
    "________________________\n",
    "\n",
    "**rappel sur la notion d'héritage :**\n",
    "\n",
    "On peut sous entendre qu'ici le code css attribué a la balise h1 est inutile (la balise h1 de la page home dépend de multicolor et celle de la page page_suivante dépend de body)\n",
    "\n",
    "dans la page home          : \n",
    ">-la balise h1 est centrée et a aussi le style défini par la classe `\"multicolor\"`\n",
    "\n",
    "dans la page page_suivante : \n",
    ">-la h1 est sensée être centrée mais elle hérite des styles attribués à la valise `\"body\"`\n",
    "\n",
    ">-càd aucune indication sur la position de texte donc par défault aligné à gauche"
   ]
  },
  {
   "cell_type": "raw",
   "metadata": {},
   "source": [
    ".multicolor {\n",
    "  background-image: linear-gradient(to left, violet, indigo, blue, green, yellow, orange, red);  \n",
    "  -webkit-background-clip: text;\n",
    "  -moz-background-clip: text; \n",
    "  background-clip: text;\n",
    "  color: transparent;\n",
    "}\n",
    "\n",
    "h1 {\n",
    "  text-align: center;\n",
    "}\n",
    "\n",
    "body {\n",
    "  background-color: rgb(73, 72, 72);\n",
    "  color: white;\n",
    "}"
   ]
  },
  {
   "cell_type": "markdown",
   "metadata": {},
   "source": [
    "<a id='infos'></a>"
   ]
  },
  {
   "cell_type": "markdown",
   "metadata": {},
   "source": [
    "## **6. Envoyer des informations**"
   ]
  },
  {
   "cell_type": "markdown",
   "metadata": {},
   "source": [
    "Il s'agit dans cette partie de voir comment on peut remplir un formulaire (dans notre cas, renseigner son nom dans une box) puis d'utiliser cette information dans une autre page par exemple.  \n",
    "Dans le dossier \"4_Formulaire\", vous trouverez le script .py, les templates html et le style css."
   ]
  },
  {
   "cell_type": "markdown",
   "metadata": {},
   "source": [
    "<a id='home3'></a>"
   ]
  },
  {
   "cell_type": "markdown",
   "metadata": {},
   "source": [
    "### **6.1. La page home.html**"
   ]
  },
  {
   "cell_type": "markdown",
   "metadata": {},
   "source": [
    "Cette fois-ci on commence par regarder la page html dans laquelle on identifie de suite \n",
    "- une nouvelle balise `form` :\n",
    ">- `action=\".\"` :\n",
    ">- `method=\"POST\"` : pour dire qu'on va s'en servir pour que l'utilisateur puisse fournir des informations\n",
    "\n",
    "- une nouvelle balise `input` :\n",
    ">- `type=\"text\"` : on indique que l'information donnée sera considérée comme une chaîne de caractères\n",
    ">- `name=\"username\"` : on demande que l'utilisateur indiquer son username ???\n",
    "\n",
    "- une nouvelle balise `boutton`:\n",
    ">- `type=\"submit\"` : va permettre à l'utilisateur d'envoyer le formulaire grace au bouton \"OK\""
   ]
  },
  {
   "cell_type": "raw",
   "metadata": {},
   "source": [
    "<!doctype html>\n",
    "<html>\n",
    "    <head>\n",
    "        <title>HomePage</title>\n",
    "        <link rel =\"stylesheet\" type=\"text/css\" href=\"{{ url_for('static', filename='main.css') }}\">\n",
    "    </head>\n",
    "\n",
    "    <body>\n",
    "        <h1>Veuillez entrer votre nom</h1>\n",
    "        <form action=\".\" method=\"POST\">\n",
    "            <input type=\"text\" name=\"username\">\n",
    "            <button type=\"submit\">OK</button>\n",
    "        </form>\n",
    "    </body>\n",
    "</html>"
   ]
  },
  {
   "cell_type": "markdown",
   "metadata": {},
   "source": [
    "<a id='login'></a>"
   ]
  },
  {
   "cell_type": "markdown",
   "metadata": {},
   "source": [
    "### **6.2 Le script login.py**"
   ]
  },
  {
   "cell_type": "markdown",
   "metadata": {},
   "source": [
    "Pas grand chose de nouveau à part la fonction `text_box` donc on va se focaliser dessus.\n",
    "\n",
    "- **Etape 1** : Pour récupérer les informations envoyées par l'utilisateur, on va utiliser l'objet request de la libraire flask.  \n",
    "> `from flask import Flask, render_template, request`\n",
    "\n",
    "- **Etape 2** Pour préciser à quelle adresse ce qui suit va s'appliquer, et on indique  :\n",
    "> `@app.route('/', methods=['POST'])`\n",
    "\n",
    "- **Etape 3** On crée notre fonction text_box() parce qu'on souhaite **récupérer le message envoyé par l'utilisateur** et **le lui afficher**\n",
    "> `def text_box():`\n",
    "\n",
    "- **Etape 4** Il faut utiliser l'attribut \"form\" de l'objet \"request\", qui contient toutes les données du formulaire envoyé en POST, pour récupérer le contenu de :\n",
    "> `text = resquest.form[\"username\"]`\n",
    "\n",
    "rappel : \n",
    "1. l'attribut \"form\" est un dictionnaire qui associe la valeur à l'attribut \"name\" du champ du formulaire. \n",
    "2. l'attribut name du champ texte vaut \"username\".\n",
    "    \n",
    "___________________\n",
    "\n",
    "\n",
    "- **Etape 5** On transforme ensuite le text pour l'afficher en majuscule :\n",
    "> `processed_text = text.upper()`\n",
    "\n",
    "- **Etape 6** Ensuite il n'y a plus qu'à réutiliser ce qu'on a récupéré pour l'injecter dans une page de bienvenue :\n",
    "> `return render_template(\"bienvenue.html\", message=processed_text)`"
   ]
  },
  {
   "cell_type": "code",
   "execution_count": null,
   "metadata": {},
   "outputs": [],
   "source": [
    "from flask import Flask, render_template, request\n",
    "\n",
    "app = Flask(__name__)\n",
    "\n",
    "@app.route('/')\n",
    "def home():\n",
    "    return render_template(\"home.html\")\n",
    "\n",
    "@app.route('/', methods=['POST'])\n",
    "def text_box():\n",
    "    text = request.form['username']\n",
    "    processed_text = text.upper()\n",
    "    return render_template(\"bienvenue.html\", message=processed_text)\n",
    "\n",
    "#if __name__ == '__main__':\n",
    "#    app.run()"
   ]
  },
  {
   "cell_type": "markdown",
   "metadata": {},
   "source": [
    "<a id='bienvenue'></a>"
   ]
  },
  {
   "cell_type": "markdown",
   "metadata": {},
   "source": [
    "### **6.3. La page bienvenue.html**"
   ]
  },
  {
   "cell_type": "markdown",
   "metadata": {},
   "source": [
    "Rien de particulier à signaler si ce n'est que :\n",
    "- la valeur du paramètre \"message\" est fixée dans la fonction `text_box` de ta page python\n",
    "- et vaut le nom entré par le user à la page d'accueil (en majuscule)\n",
    "\n",
    "Soit exactement notre objectif sur cette partie !"
   ]
  },
  {
   "cell_type": "raw",
   "metadata": {},
   "source": [
    "<!doctype html>\n",
    "<html>\n",
    "    <head>\n",
    "      <title>HomePage</title>\n",
    "      <link rel =\"stylesheet\" type=\"text/css\" href=\"{{ url_for('static', filename='main.css') }}\">\n",
    "    </head>\n",
    "    <body>\n",
    "      <h1> Bienvenue {{ message }} </h1>\n",
    "      <a href=\"{{ url_for('home') }}\"> Retourner à la page d'accueil </a>\n",
    "    </body>\n",
    "</html>"
   ]
  }
 ],
 "metadata": {
  "anaconda-cloud": {},
  "kernelspec": {
   "display_name": "Python 3.7.4 64-bit ('base': conda)",
   "language": "python",
   "name": "python37464bitbaseconda9e6c040f33cf42ee8ed33f61107b7aa2"
  },
  "language_info": {
   "codemirror_mode": {
    "name": "ipython",
    "version": 3
   },
   "file_extension": ".py",
   "mimetype": "text/x-python",
   "name": "python",
   "nbconvert_exporter": "python",
   "pygments_lexer": "ipython3",
   "version": "3.7.4"
  }
 },
 "nbformat": 4,
 "nbformat_minor": 4
}
